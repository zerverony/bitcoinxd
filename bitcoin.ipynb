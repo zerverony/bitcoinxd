import numpy as np
import pandas as pd


import matplotlib.pyplot as plt
plt.style.use('fivethirtyeight')
plt.rcParams['lines.linewidth'] = 1.5


from sklearn.linear_model import LinearRegression
from sklearn.linear_model import Lasso
from sklearn.ensemble import RandomForestRegressor
from sklearn.metrics import mean_squared_error
from sklearn.preprocessing import StandardScaler
from sklearn.pipeline import make_pipeline

from skforecast.ForecasterAutoreg import ForecasterAutoreg
from skforecast.ForecasterAutoregCustom import ForecasterAutoregCustom
from skforecast.ForecasterAutoregDirect import ForecasterAutoregDirect
from skforecast.model_selection import grid_search_forecaster
from skforecast.model_selection import backtesting_forecaster
from skforecast.utils import save_forecaster
from skforecast.utils import load_forecaster


import warnings


!pip install skforecast
!pip install yfinance
import yfinance as yf

start_date="2020-01-01"
end_date="2023-04-28"
Sigla="BTC-USD"
Sigla=yf.download(Sigla, start_date, end_date)
Sigla

Sigla['Open'].plot(label = 'Acción', figsize = (15,7)) 
plt.title('Valor de la acción período enero 2020 a abril 2022')


(Sigla.index == pd.date_range(
                    start = Sigla.index.min(),
                    end   = Sigla.index.max(),
                    freq  = Sigla.index.freq)
).all()


steps = 300
Sigla_train = Sigla[:-steps]
Sigla_test  = Sigla[-steps:]

print(f"Fechas train : {Sigla_train.index.min()} --- {Sigla_train.index.max()}  (n={len(Sigla_train)})")
print(f"Fechas test  : {Sigla_test.index.min()} --- {Sigla_test.index.max()}  (n={len(Sigla_test)})")

fig, ax = plt.subplots(figsize=(7, 3))
Sigla_train['Open'].plot(ax=ax, label='train')
Sigla_test['Open'].plot(ax=ax, label='test')
ax.legend();


forecaster = ForecasterAutoreg(
                regressor = RandomForestRegressor(random_state=123),
                lags = 6
             )

forecaster.fit(y=Sigla_train['Open'])
forecaster

steps = 300
predicciones = forecaster.predict(steps=steps)
predicciones.head(150)


fig, ax = plt.subplots(figsize=(7, 3))
Sigla_train['Open'].plot(ax=ax, label='train')
Sigla_test['Open'].plot(ax=ax, label='test')
predicciones.plot(ax=ax, label='predicciones')
ax.legend();

error_mse = mean_squared_error(
                y_true = Sigla_test['Open'],
                y_pred = predicciones
            )

print(f"Error de test (mse): {error_mse}")

steps = 300
forecaster = ForecasterAutoreg(
                regressor = RandomForestRegressor(random_state=123),
                lags      = 12 # Este valor será remplazado en el grid search
             )

# Lags utilizados como predictores
lags_grid = [10, 20]

# Hiperparámetros del regresor
param_grid = {'n_estimators': [100, 500],
              'max_depth': [3, 5, 10]}

resultados_grid = grid_search_forecaster(
                        forecaster         = forecaster,
                        y                  = Sigla_train['Open'],
                        param_grid         = param_grid,
                        lags_grid          = lags_grid,
                        steps              = steps,
                        refit              = True,
                        metric             = 'mean_squared_error',
                        initial_train_size = int(len(Sigla_train)*0.5),
                        fixed_train_size   = False,
                        return_best        = True,
                        verbose            = False
                  )

regressor = RandomForestRegressor(max_depth=3, n_estimators=500, random_state=123)
forecaster = ForecasterAutoreg(
                regressor = regressor,
                lags      = 20
             )

forecaster.fit(y=Sigla_train['Open'])


predicciones = forecaster.predict(steps=steps)


fig, ax = plt.subplots(figsize=(7, 3))
Sigla_train['Open'].plot(ax=ax, label='train')
Sigla_test['Open'].plot(ax=ax, label='test')
predicciones.plot(ax=ax, label='predicciones')
ax.legend();




